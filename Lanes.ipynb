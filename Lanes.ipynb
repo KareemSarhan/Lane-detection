{
  "nbformat": 4,
  "nbformat_minor": 0,
  "metadata": {
    "colab": {
      "name": "Lanes.ipynb",
      "provenance": [],
      "collapsed_sections": [],
      "authorship_tag": "ABX9TyOjilizlM4DghuMb2QGg6ma",
      "include_colab_link": true
    },
    "kernelspec": {
      "name": "python3",
      "display_name": "Python 3"
    }
  },
  "cells": [
    {
      "cell_type": "markdown",
      "metadata": {
        "id": "view-in-github",
        "colab_type": "text"
      },
      "source": [
        "<a href=\"https://colab.research.google.com/github/KareemSarhan/Lane-detection/blob/master/Lanes.ipynb\" target=\"_parent\"><img src=\"https://colab.research.google.com/assets/colab-badge.svg\" alt=\"Open In Colab\"/></a>"
      ]
    },
    {
      "cell_type": "code",
      "metadata": {
        "id": "ueEnYdLCqbDr",
        "colab_type": "code",
        "colab": {}
      },
      "source": [
        "import cv2\n",
        "import google.colab.patches\n",
        "import numpy as np\n",
        "import matplotlib.pyplot as plt\n",
        "\n",
        "def makecoord(img,lines):\n",
        "    slope , intercept = lines\n",
        "    y1=img.shape[0]\n",
        "    y2=int(y1*3/5)\n",
        "    x1=int((y1-intercept)/slope)\n",
        "    x2=int((y2-intercept)/slope)\n",
        "\n",
        "    return np.array([x1,y1,x2,y2])\n",
        "def argslope(img,lines):\n",
        "    leftfit=[]\n",
        "    rightfit=[]\n",
        "    for line in lines:\n",
        "        x1,y1,x2,y2 = line.reshape(4)\n",
        "        param = np.polyfit((x1,x2),(y1,y2),1)\n",
        "        #print(param)\n",
        "        slope = param[0]\n",
        "        intercept=param[1]\n",
        "        if slope <0:\n",
        "            leftfit.append((slope,intercept))\n",
        "        else:    \n",
        "            rightfit.append((slope,intercept))\n",
        "    leftfit_avg=np.average(leftfit,axis=0)\n",
        "    rightfit_avg=np.average(rightfit,axis=0)\n",
        "    leftline=makecoord(img,leftfit_avg)\n",
        "    rightline=makecoord(img,rightfit_avg)\n",
        "    return np.array([leftline,rightline])\n",
        "def canny(img):\n",
        "    laneimg =np.copy(img)\n",
        "    gray=cv2.cvtColor(laneimg,cv2.COLOR_RGB2GRAY)\n",
        "    #blur =cv2.GaussianBlur(gray,(5,5),0)\n",
        "    canny = cv2.Canny(gray,50,150)\n",
        "    return canny\n",
        "def roi(img):\n",
        "    height = img.shape[0]\n",
        "    tri = np.array([[(200,height),(1100,height),(600,250)]])\n",
        "    mask = np.zeros_like(img)\n",
        "    cv2.fillPoly(mask,tri,255)\n",
        "    mskedimg = cv2.bitwise_and(img,mask)\n",
        "    return mskedimg\n",
        "def DisplayLines(img,lines):\n",
        "    line_image=np.zeros_like(img)\n",
        "    if lines is not None:\n",
        "        for line in lines:\n",
        "            x1, y1, x2, y2=line.reshape(4)\n",
        "            cv2.line(line_image,(x1,y1),(x2,y2),(255,0,0),10)\n",
        "    return line_image\n",
        "def submain1(img):\n",
        "    tempimg=np.copy(img)\n",
        "    cannyimg = canny(img)\n",
        "    roiimg = roi(cannyimg)\n",
        "    linesimg = cv2.HoughLinesP(roiimg,2,np.pi/180,100,np.array([]),minLineLength=40,maxLineGap=5)\n",
        "    averaged_lines=argslope(tempimg,linesimg)\n",
        "    DisplayLinesimg=DisplayLines(img,averaged_lines)\n",
        "    combo_img=cv2.addWeighted(img,0.8,DisplayLinesimg,1,1)\n",
        "    cv2_imshow(combo_img)\n",
        "\n",
        "cap = cv2.VideoCapture(\"/test2.mp4\")\n",
        "while(cap.isOpened()):\n",
        "    _, frame = cap.read()\n",
        "    submain1(frame)\n",
        "\n",
        "\n",
        "\n"
      ],
      "execution_count": 0,
      "outputs": []
    }
  ]
}